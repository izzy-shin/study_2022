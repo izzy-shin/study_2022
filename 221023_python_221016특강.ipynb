{
  "nbformat": 4,
  "nbformat_minor": 0,
  "metadata": {
    "colab": {
      "provenance": [],
      "collapsed_sections": [],
      "toc_visible": true
    },
    "kernelspec": {
      "name": "python3",
      "display_name": "Python 3"
    },
    "language_info": {
      "name": "python"
    }
  },
  "cells": [
    {
      "cell_type": "markdown",
      "source": [
        "객체 맛보기"
      ],
      "metadata": {
        "id": "e_KdzA-1F-OG"
      }
    },
    {
      "cell_type": "code",
      "source": [
        "# 아빠, 엄마, 예은 - 객체(Object) : 가지고 있는 기능이나 자료가 다르다.\n",
        "# () {} []\n",
        "\n",
        "# 아빠 삼겹살 사주세요.\n",
        "아빠.사주세요('삼겹살')\n",
        "삼겹살 = 아빠.사주세요('삼겹살')\n",
        "\n",
        "# 엄마 아빠가 사온 삼겹살 구워주세요.\n",
        "구워진_삼겹살 = 엄마.구워주세요(삼겹살)\n",
        "\n",
        "# 예은아 아빠가 사온 삼겹살 먹어라\n",
        "예은.먹어라(삼겹살)\n",
        "\n",
        "# 예은아 엄마가 구운 삼겹살 먹어라\n",
        "예은.먹어라(구워진_삼겹살)\n",
        "\n",
        "# 예은아 커피랑 마카롱 좀 가져와\n",
        "예은.가져와('커피','마카롱')\n",
        "\n",
        "# 아빠 편의점에서 새우깡, 우유, 아이스크림, 사과, 치킨 사주세요\n",
        "아빠.사주세요('새우깡','우유', ---) => 아휴 나열하기 힘들다!\n",
        "\n",
        "먹고싶은_목록 = ['새우깡','우유','아이스크림','사과','치킨']\n",
        "아빠.사주세요(먹고싶은_목록)\n"
      ],
      "metadata": {
        "id": "mA54uikwAJ19"
      },
      "execution_count": null,
      "outputs": []
    },
    {
      "cell_type": "code",
      "source": [
        "# 중첩 명령\n",
        "---\n",
        "# 아빠 삼겹살 사주세요.\n",
        "아빠.사주세요('삼겹살')\n",
        "삼겹살 = 아빠.사주세요('삼겹살')\n",
        "\n",
        "# 엄마 아빠가 사온 삼겹살 구워주세요.\n",
        "구워진_삼겹살 = 엄마.구워주세요(삼겹살)\n",
        "\n",
        "# 예은아 아빠가 사온 삼겹살 먹어라\n",
        "예은.먹어라(삼겹살)\n",
        "\n",
        "# 예은아 엄마가 구운 삼겹살 먹어라\n",
        "예은.먹어라(구워진_삼겹살)\n",
        "---\n",
        "\n",
        "# 중첩 명령 : 가장 안쪽에 있는 것부터 바깥쪽으로 나가면서 실행됨\n",
        "예은.먹어라(엄마.구워주세요(아빠.사주세요('삼겹살')))\n",
        "\n"
      ],
      "metadata": {
        "id": "BubGQHksEBRb"
      },
      "execution_count": null,
      "outputs": []
    },
    {
      "cell_type": "code",
      "source": [
        "# 연쇄 명령\n",
        "---\n",
        "# 아빠 냐옹이 사주세요.\n",
        "# 냐옹아 이리와\n",
        "# 냐옹아 앉아\n",
        "# 냐옹아 먹어\n",
        "\n",
        "아빠.사주세요('냐옹이')\n",
        "\n",
        "냐옹이 = 아빠.사주세요('냐옹이')\n",
        "냐옹이.이리와()\n",
        "냐옹이.앉아()\n",
        "냐옹이.먹어()\n",
        "\n",
        "---\n",
        "# 연쇄 명령\n",
        "아빠.사주세요('냐옹이').이리와().앉아().먹어()\n",
        "\n"
      ],
      "metadata": {
        "id": "J0peK1-GEq2_"
      },
      "execution_count": null,
      "outputs": []
    },
    {
      "cell_type": "markdown",
      "source": [
        "### 1-1. 객체(Object)\n",
        "- 파이썬의 객체\n",
        "- numeric: int, float, bool\n",
        "- container : str, tuple, list, range, set, dict\n"
      ],
      "metadata": {
        "id": "CsdHZpwKFXOu"
      }
    },
    {
      "cell_type": "code",
      "source": [
        "a = 10\n",
        "b = 3.14\n",
        "c = True\n",
        "d = False\n",
        "\n",
        "\n",
        "# int라고 해도 되고, a라고 해도 된다.\n",
        "# int는 class 클래스\n",
        "# a는 instance 인스턴스\n",
        "\n",
        "# 데이터분석강사 - class\n",
        "# 윤소영 - instance\n",
        "\n",
        "# 가수 - class\n",
        "# 아이브 - instance\n",
        "\n",
        "x = int('123') # 문자열 123을 가지고 정수 123을 만들어라. 즉, class를 사용해서 instance를 만듦\n",
        "a = 10 # literal을 사용해서 instance를 만듦 (방법1: 이름을 연결, 방법2: 소괄호로)\n",
        "\n",
        "# 작업은 instance를 사용해서 하게 됨\n",
        "# (instance를 만드는 작업은 class가 하게 됨. 따라서 instance 생성 이외의 작업은 instance를 사용해서 하게 됨)\n",
        "\n",
        "\n",
        "a+b, a>b, abs(a)\n"
      ],
      "metadata": {
        "colab": {
          "base_uri": "https://localhost:8080/"
        },
        "id": "T2SQpJP4FnB6",
        "outputId": "8b857956-c611-4464-cccb-a388c09915ab"
      },
      "execution_count": 6,
      "outputs": [
        {
          "output_type": "execute_result",
          "data": {
            "text/plain": [
              "(13.14, True, 10)"
            ]
          },
          "metadata": {},
          "execution_count": 6
        }
      ]
    },
    {
      "cell_type": "markdown",
      "source": [
        "### 1-2. 객체가 할 수 있는 기능, 가지고 있는 값을 확인\n",
        "dir(a), help(a)"
      ],
      "metadata": {
        "id": "zsVUPyOrIfij"
      }
    },
    {
      "cell_type": "code",
      "source": [
        "a = 10\n",
        "b = 3.14\n",
        "c = True\n",
        "d = False\n",
        "\n",
        "dir(int): 객체가 할 수 있는 기능이나 가지고 있는 값을 확인하는 용도, \n",
        "객체가 가지고 있는 기능과 값에 대한 이름 목록만 표시\n",
        "\n",
        "dir(a)\n",
        "\n",
        "help(int) : 세부적인 설명이나 사용법이 기술됨\n"
      ],
      "metadata": {
        "id": "2poo46R9Im5t"
      },
      "execution_count": null,
      "outputs": []
    }
  ]
}